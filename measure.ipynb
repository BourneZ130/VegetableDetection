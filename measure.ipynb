{
 "cells": [
  {
   "cell_type": "code",
   "execution_count": null,
   "metadata": {},
   "outputs": [],
   "source": [
    "from detector import Mydetector\n",
    "import cv2\n",
    "from utils import cv2_imshow,MyZoom,CutImg,measure\n",
    "from sense import get_frame\n",
    "\n",
    "img,depth,oridepth = get_frame()\n",
    "mz = MyZoom(img)\n",
    "myde = Mydetector()\n",
    "out = myde.predictor(mz)\n",
    "PredCenter = out.get_fields()['pred_keypoints'][0][5].numpy()\n",
    "CenterDepth = depth[int(PredCenter[0])][int(PredCenter[1])]\n",
    "d,l = measure(out['instances'].to(\"cpu\"),CenterDepth)"
   ]
  }
 ],
 "metadata": {
  "interpreter": {
   "hash": "7cf119d9c5e66f01b0cc13e306b658f13bd09ef53dec7e5ec8f24cf6e6457b6f"
  },
  "kernelspec": {
   "display_name": "Python 3.6.13 64-bit ('d_b': conda)",
   "name": "python3"
  },
  "language_info": {
   "codemirror_mode": {
    "name": "ipython",
    "version": 3
   },
   "file_extension": ".py",
   "mimetype": "text/x-python",
   "name": "python",
   "nbconvert_exporter": "python",
   "pygments_lexer": "ipython3",
   "version": "3.6.13"
  },
  "orig_nbformat": 4
 },
 "nbformat": 4,
 "nbformat_minor": 2
}
