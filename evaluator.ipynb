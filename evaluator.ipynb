{
 "cells": [
  {
   "cell_type": "code",
   "execution_count": null,
   "metadata": {},
   "outputs": [],
   "source": [
    "from detector import Mydetector\n",
    "\n",
    "myde=Mydetector(setname = 'vegetables')\n",
    "a,b,c = myde.evaluator()"
   ]
  }
 ],
 "metadata": {
  "interpreter": {
   "hash": "7cf119d9c5e66f01b0cc13e306b658f13bd09ef53dec7e5ec8f24cf6e6457b6f"
  },
  "kernelspec": {
   "display_name": "Python 3.6.13 64-bit ('d_b': conda)",
   "name": "python3"
  },
  "language_info": {
   "codemirror_mode": {
    "name": "ipython",
    "version": 3
   },
   "file_extension": ".py",
   "mimetype": "text/x-python",
   "name": "python",
   "nbconvert_exporter": "python",
   "pygments_lexer": "ipython3",
   "version": "3.6.13"
  },
  "orig_nbformat": 4
 },
 "nbformat": 4,
 "nbformat_minor": 2
}
